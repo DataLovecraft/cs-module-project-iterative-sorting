{
 "cells": [
  {
   "cell_type": "code",
   "execution_count": 68,
   "metadata": {},
   "outputs": [],
   "source": [
    "from random import randint\n",
    "from timeit import repeat\n",
    "\n",
    "ARRAY_LENGTH = 10\n",
    "\n",
    "sample_array= [randint(0, ARRAY_LENGTH) for i in range(ARRAY_LENGTH)]"
   ]
  },
  {
   "cell_type": "markdown",
   "metadata": {},
   "source": [
    "### Bubble sort\n",
    "\n",
    "Iterates over a list, comparing elements in pairs and swapping them until the larger elements 'bubble up' to the end of the list, and the smaller elements towards the 'bottom'.\n",
    "\n",
    "::\n",
    "- We begin by comparing the first two elements of the list. \n",
    "- If the fist element is larger than the second elememnt, we swap them.\n",
    "- If they are already in order we leave them as is.\n",
    "- we then move to the next pair of elements, compare their values and swap as neccesary. \n",
    "- Continue until the last pair of items in the list.\n",
    "\n",
    "::\n",
    "\n",
    "Time Complexity:\n",
    "\n",
    "In the worst case scenario (when the list is in reverse order), this algorithm would have to swap every single item of the array. If we have n elements in our list, we would have n iterations per item. $0(n^2)$\n"
   ]
  },
  {
   "cell_type": "code",
   "execution_count": null,
   "metadata": {},
   "outputs": [],
   "source": [
    "def bubble_sort(arr):\n",
    "    swapped = True     # ensures the loop runs at least once\n",
    "    while swapped:\n",
    "        swapped = False\n",
    "        for i in range(len(arr) - 1):\n",
    "            if arr[i] > arr[i + 1]:\n",
    "                # swap the elements\n",
    "                arr[i], arr[i + 1] = arr[i + 1], arr[i]\n",
    "                swapped = True    # keeps the loop going                \n",
    "    return arr                \n",
    "                \n",
    "# test:                 \n",
    "bubble_sort(sample_array)\n",
    "print(sample_array)                "
   ]
  },
  {
   "cell_type": "markdown",
   "metadata": {},
   "source": [
    "### Selection Sort\n",
    "\n",
    "Selection sort is an algorithm that selects the smallest element from an unsorted list in\n",
    "each iteration and places that element at the beginning of the unsorted list.\n",
    "\n",
    "Steps:\n",
    "- set the fist element as min\n",
    "- Compare min with the second element. \n",
    "    - if the second element is smaller than min \n",
    "        - assign the second element as min\n",
    "  Compare min with the third element.\n",
    "    - if the third element is smaller than min\n",
    "        - assign the third elemt as min\n",
    "  else None\n",
    "  continue until the last element\n",
    "\n",
    "\n",
    "selection_sort(arr, sz):\n",
    "    repeat (sz - 1) times\n",
    "    set the first ursorted elem as the min\n",
    "    for each unsorted elem:\n",
    "        if elem < currentMin:\n",
    "            set elem as new min\n",
    "    swap min with the first unsorted position\n",
    "end"
   ]
  },
  {
   "cell_type": "code",
   "execution_count": 84,
   "metadata": {},
   "outputs": [],
   "source": [
    "def selection_sort(arr):\n",
    "    for i in range(len(arr) - 1):\n",
    "        min_idx = i\n",
    "        for j in range(i + 1, len(arr) - 1):\n",
    "            if arr[i] < arr[min_idx]:\n",
    "                min_idx = j\n",
    "        arr[i], arr[min_idx] = arr[min_idx], arr[i]\n",
    "        \n",
    "    return arr"
   ]
  },
  {
   "cell_type": "code",
   "execution_count": 87,
   "metadata": {},
   "outputs": [
    {
     "name": "stdout",
     "output_type": "stream",
     "text": [
      "[5, 6, 9, 12, 16, 25, 43, 55, 67]\n"
     ]
    }
   ],
   "source": [
    "# runtime: O(n * n) = O(n^2)\n",
    "def selection_sort(arr):\n",
    "    # iterate through the array (represents the sorted-unsorted boundary \n",
    "    # moving across the array)\n",
    "    for i in range(len(arr)):  # O(n)\n",
    "        # index of the boundary, as well as the index we're going to \n",
    "        # swap the smallest element with \n",
    "        boundary = i\n",
    "\n",
    "        smallest_value = arr[boundary]\n",
    "        smallest_index = boundary\n",
    "        # finding the smallest element \n",
    "        # in the \"unsorted\" portion of the array \n",
    "        for unsorted_index in range(boundary, len(arr)):  # O(n)\n",
    "            if arr[unsorted_index] < smallest_value:\n",
    "                smallest_value = arr[unsorted_index]\n",
    "                smallest_index = unsorted_index\n",
    "\n",
    "        # `smallest_index` is the index of the smallest element in the unsorted portion \n",
    "\n",
    "        # once that's found, swap it with the element on the right edge \n",
    "        # of the sorted-unsorted boundary \n",
    "\n",
    "        arr[boundary], arr[smallest_index] = arr[smallest_index], arr[boundary]\n",
    "\n",
    "    return arr\n",
    "\n",
    "\n",
    "arr = [5, 55, 6, 67, 12, 9, 25, 43, 16]\n",
    "print(selection_sort(arr))"
   ]
  },
  {
   "cell_type": "code",
   "execution_count": 91,
   "metadata": {},
   "outputs": [],
   "source": [
    "def linear_search(arr, target):\n",
    "    for i in range(len(arr)):\n",
    "        if arr[i] == target:\n",
    "            return i\n",
    "    return -1"
   ]
  },
  {
   "cell_type": "code",
   "execution_count": 92,
   "metadata": {},
   "outputs": [
    {
     "data": {
      "text/plain": [
       "[4, 2, 9, 4, 4, 6, 9, 8, 9, 9]"
      ]
     },
     "execution_count": 92,
     "metadata": {},
     "output_type": "execute_result"
    }
   ],
   "source": [
    "sample_array"
   ]
  },
  {
   "cell_type": "code",
   "execution_count": 99,
   "metadata": {},
   "outputs": [
    {
     "data": {
      "text/plain": [
       "5"
      ]
     },
     "execution_count": 99,
     "metadata": {},
     "output_type": "execute_result"
    }
   ],
   "source": [
    "linear_search(sample_array, 6)"
   ]
  },
  {
   "cell_type": "code",
   "execution_count": 107,
   "metadata": {},
   "outputs": [],
   "source": [
    "# Binary Search in python\n",
    "\n",
    "\n",
    "def binary_search(array, target):\n",
    "    low = 0\n",
    "    high = len(arr) - 1\n",
    "\n",
    "    # Repeat until the pointers low and high meet each other\n",
    "    while low <= high:\n",
    "\n",
    "        mid = low + (high - low)//2\n",
    "        \n",
    "        if array[mid] == target:\n",
    "            return mid\n",
    "\n",
    "        elif array[mid] < target:\n",
    "            low = mid + 1\n",
    "\n",
    "        else:\n",
    "            high = mid - 1\n",
    "\n",
    "    return -1"
   ]
  },
  {
   "cell_type": "code",
   "execution_count": 108,
   "metadata": {},
   "outputs": [
    {
     "data": {
      "text/plain": [
       "[4, 2, 9, 4, 4, 6, 9, 8, 9, 9]"
      ]
     },
     "execution_count": 108,
     "metadata": {},
     "output_type": "execute_result"
    }
   ],
   "source": [
    "sample_array"
   ]
  },
  {
   "cell_type": "code",
   "execution_count": 109,
   "metadata": {},
   "outputs": [
    {
     "data": {
      "text/plain": [
       "1"
      ]
     },
     "execution_count": 109,
     "metadata": {},
     "output_type": "execute_result"
    }
   ],
   "source": [
    "binary_search(sample_array, 2)"
   ]
  },
  {
   "cell_type": "code",
   "execution_count": null,
   "metadata": {},
   "outputs": [],
   "source": []
  }
 ],
 "metadata": {
  "kernelspec": {
   "display_name": "lambda",
   "language": "python",
   "name": "lambda"
  },
  "language_info": {
   "codemirror_mode": {
    "name": "ipython",
    "version": 3
   },
   "file_extension": ".py",
   "mimetype": "text/x-python",
   "name": "python",
   "nbconvert_exporter": "python",
   "pygments_lexer": "ipython3",
   "version": "3.6.10"
  }
 },
 "nbformat": 4,
 "nbformat_minor": 4
}

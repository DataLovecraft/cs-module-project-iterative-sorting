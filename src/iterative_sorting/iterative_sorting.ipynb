{
 "cells": [
  {
   "cell_type": "markdown",
   "metadata": {},
   "source": [
    "Given an array of n items: \n",
    "\n",
    "1. Find the largest item x, in the range of [0...n−1] \n",
    "2. Swap x with the (n−1)th item\n",
    "3. Reduce n by 1 and go to Step 1"
   ]
  },
  {
   "cell_type": "code",
   "execution_count": 2,
   "metadata": {},
   "outputs": [],
   "source": [
    "a = [6, 8, 1, 3, 0, 5]"
   ]
  },
  {
   "cell_type": "code",
   "execution_count": null,
   "metadata": {},
   "outputs": [],
   "source": [
    "%%timeit\n",
    "\n",
    "# TO-DO: Complete the selection_sort() function below\n",
    "\n",
    "def selection_sort(arr):\n",
    "    # loop through n-1 elements\n",
    "    for i in range(0, len(arr) - 1):\n",
    "        cur_index = i\n",
    "        smallest_index = cur_index\n",
    "        \n",
    "        \n",
    "        \n",
    "        \n",
    "\n",
    "    return arr"
   ]
  },
  {
   "cell_type": "code",
   "execution_count": null,
   "metadata": {},
   "outputs": [],
   "source": [
    "def selection_sort(items):\n",
    "    # Outer Loop\n",
    "    for i in range(0, len(items) - 1):\n",
    "        cur_index = i\n",
    "        smallest_index = cur_index\n",
    "        for j in range(cur_index + 1, len(items)):\n",
    "            if items[j] < items[smallest_index]:\n",
    "                smallest_index = j\n",
    "\n",
    "        items[smallest_index], items[cur_index] = items[cur_index], items[smallest_index]\n",
    "\n",
    "    return items"
   ]
  },
  {
   "cell_type": "markdown",
   "metadata": {},
   "source": [
    "iterates over a list, comparing elements in pairs and swapping them until the larger elements \"bubble up\" to the end of the list, and the smaller elements stay at the \"bottom\".\n",
    "\n"
   ]
  },
  {
   "cell_type": "code",
   "execution_count": null,
   "metadata": {},
   "outputs": [],
   "source": [
    "%%timeit\n",
    "\n",
    "# TO-DO:  implement the Bubble Sort function below\n",
    "\n",
    "def bubble_sort(arr):\n",
    "    # Your code here\n",
    "\n",
    "\n",
    "    return arr"
   ]
  },
  {
   "cell_type": "code",
   "execution_count": null,
   "metadata": {},
   "outputs": [],
   "source": [
    "def bubble_sort(nums):\n",
    "    # We set swapped to True so the loop looks runs at least once\n",
    "    swapped = True\n",
    "    while swapped:\n",
    "        swapped = False\n",
    "        for i in range(len(nums) - 1):\n",
    "            if nums[i] > nums[i + 1]:\n",
    "                # Swap the elements\n",
    "                nums[i], nums[i + 1] = nums[i + 1], nums[i]\n",
    "                # Set the flag to True so we'll loop again\n",
    "                swapped = True"
   ]
  },
  {
   "cell_type": "code",
   "execution_count": null,
   "metadata": {},
   "outputs": [],
   "source": [
    "%%timeit\n",
    "\n",
    "'''\n",
    "STRETCH: implement the Count Sort function below\n",
    "\n",
    "Counting sort is a sorting algorithm that works on a set of data where\n",
    "we specifically know the maximum value that can exist in that set of\n",
    "data. The idea behind this algorithm then is that we can create \"buckets\"\n",
    "from 0 up to the max value. This is most easily done by initializing an\n",
    "array of 0s whose length is the max value + 1 (why do we need this \"+ 1\"?).\n",
    "\n",
    "Each buckets[i] then is responsible for keeping track of how many times \n",
    "we've seen `i` in the input set of data as we iterate through it.\n",
    "Once we know exactly how many times each piece of data in the input set\n",
    "showed up, we can construct a sorted set of the input data from the \n",
    "buckets. \n",
    "\n",
    "What is the time and space complexity of the counting sort algorithm?\n",
    "'''\n",
    "def counting_sort(arr, maximum=None):\n",
    "    # Your code here\n",
    "\n",
    "\n",
    "    return arr\n",
    "\n"
   ]
  }
 ],
 "metadata": {
  "kernelspec": {
   "display_name": "lambda",
   "language": "python",
   "name": "lambda"
  },
  "language_info": {
   "codemirror_mode": {
    "name": "ipython",
    "version": 3
   },
   "file_extension": ".py",
   "mimetype": "text/x-python",
   "name": "python",
   "nbconvert_exporter": "python",
   "pygments_lexer": "ipython3",
   "version": "3.6.10"
  }
 },
 "nbformat": 4,
 "nbformat_minor": 4
}

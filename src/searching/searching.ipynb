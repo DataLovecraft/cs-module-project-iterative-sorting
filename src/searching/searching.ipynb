{
 "cells": [
  {
   "cell_type": "code",
   "execution_count": null,
   "metadata": {},
   "outputs": [],
   "source": [
    "%%timeit\n",
    "\n",
    "def linear_search(arr, target):\n",
    "    \n",
    "\n",
    "\n",
    "    return -1\n",
    "\n"
   ]
  },
  {
   "cell_type": "code",
   "execution_count": null,
   "metadata": {},
   "outputs": [],
   "source": [
    "%%timeit\n",
    "\n",
    "# Write an iterative implementation of Binary Search\n",
    "\n",
    "def binary_search(arr, target):\n",
    "    low = 0\n",
    "    high = len(arr) - 1\n",
    "    \n",
    "    while low \n",
    "    mid = (low + high) // 2\n",
    "    \n",
    "    if arr[mid] == target:\n",
    "        return mid\n",
    "    elif target < arr[mid]:\n",
    "        high = mid - 1\n",
    "    else:\n",
    "        low = mid + 1\n",
    "\n",
    "    return -1"
   ]
  }
 ],
 "metadata": {
  "kernelspec": {
   "display_name": "lambda",
   "language": "python",
   "name": "lambda"
  },
  "language_info": {
   "codemirror_mode": {
    "name": "ipython",
    "version": 3
   },
   "file_extension": ".py",
   "mimetype": "text/x-python",
   "name": "python",
   "nbconvert_exporter": "python",
   "pygments_lexer": "ipython3",
   "version": "3.6.10"
  }
 },
 "nbformat": 4,
 "nbformat_minor": 4
}

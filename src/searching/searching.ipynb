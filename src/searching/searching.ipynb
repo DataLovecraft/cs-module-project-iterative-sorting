{
 "cells": [
  {
   "cell_type": "code",
   "execution_count": null,
   "metadata": {},
   "outputs": [],
   "source": [
    "def linear_search(arr, target):\n",
    "    # Your code here\n",
    "\n",
    "\n",
    "    return -1   # not found\n",
    "\n",
    "\n",
    "# Write an iterative implementation of Binary Search\n",
    "def binary_search(arr, target):\n",
    "\n",
    "    # Your code here\n",
    "\n",
    "\n",
    "    return -1  # not found"
   ]
  }
 ],
 "metadata": {
  "kernelspec": {
   "display_name": "lambda",
   "language": "python",
   "name": "lambda"
  },
  "language_info": {
   "codemirror_mode": {
    "name": "ipython",
    "version": 3
   },
   "file_extension": ".py",
   "mimetype": "text/x-python",
   "name": "python",
   "nbconvert_exporter": "python",
   "pygments_lexer": "ipython3",
   "version": "3.6.10"
  }
 },
 "nbformat": 4,
 "nbformat_minor": 4
}
